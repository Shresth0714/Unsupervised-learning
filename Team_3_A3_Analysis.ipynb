{
 "cells": [
  {
   "cell_type": "markdown",
   "metadata": {},
   "source": [
    "***\n",
    "***\n",
    "***\n",
    "\n",
    "<br><h2>Timed Unsupervised Learning Project | Windows vs Mac</h2>\n",
    "\n",
    "*DAT-5303 | Machine Learning*<br>\n",
    "Team 3 - Neel Roshania | Omosalewa Oyagbola | Salomon Isaac Alvarado Claros | Shanna FNU | Shresth Sethi | Sunlong Ngouv <br>|\n",
    "Hult International Business School<br><br><br>\n",
    "25 March 2020\n",
    "\n",
    "***\n",
    "***\n",
    "***"
   ]
  },
  {
   "cell_type": "code",
   "execution_count": 3,
   "metadata": {
    "scrolled": true
   },
   "outputs": [
    {
     "data": {
      "application/javascript": [
       "IPython.notebook.set_autosave_interval(60000)"
      ]
     },
     "metadata": {},
     "output_type": "display_data"
    },
    {
     "name": "stdout",
     "output_type": "stream",
     "text": [
      "Autosaving every 60 seconds\n"
     ]
    }
   ],
   "source": [
    "%autosave 60\n",
    "\n",
    "# datascience essentials\n",
    "import pandas                as pd\n",
    "import numpy                 as np\n",
    "import matplotlib.pyplot     as plt\n",
    "import seaborn               as sns\n",
    "import ipywidgets            as widgets\n",
    "from ipywidgets              import AppLayout, HTML, Layout\n",
    "\n",
    "# unsupervised learning\n",
    "from sklearn                 import preprocessing\n",
    "from sklearn.decomposition   import PCA\n",
    "from sklearn.cluster         import KMeans\n",
    "from scipy.cluster.hierarchy import dendrogram, linkage # dendrograms"
   ]
  },
  {
   "cell_type": "markdown",
   "metadata": {},
   "source": [
    "# Introduction"
   ]
  },
  {
   "cell_type": "markdown",
   "metadata": {},
   "source": [
    "## Stakeholder Address\n",
    "This document has been structured for business and technical stakeholders.\n",
    "1. Business stakeholders can refer to section 1, 7 and 8\n",
    "2. Data Science stakeholders can refer to section 2, 3, 4, 5, and 6"
   ]
  },
  {
   "cell_type": "markdown",
   "metadata": {},
   "source": [
    "## Project Question: Windows or Mac?**\n",
    "\n",
    "**Aim**: To analyze and interpret an unsupervised learning problem based on survey data for Microsoft. \n",
    "\n",
    "**Background**: Microsoft has decided to approach this question from the perspective of the Big Five personality traits as well as the Hult DNA to identify consumer buying behavior.\n",
    "\n",
    "**WHY**: Apple (AAPL) and Microsoft (MSFT) have been rigorously researching several aspects of consumer buying behavior in regards to the decision making behind this question.\n",
    "\n",
    "**Assumption**: This data, including its demographics, are representative of the population Microsoft is attempting to study.\n"
   ]
  },
  {
   "cell_type": "markdown",
   "metadata": {},
   "source": [
    "## Big 5 Personality Traits"
   ]
  },
  {
   "cell_type": "markdown",
   "metadata": {},
   "source": [
    "- **Extroversion (E)** is the personality trait of seeking fulfillment from sources outside the self or in community. High scorers tend to be very social while low scorers prefer to work on their projects alone.<br>\n",
    "- **Agreeableness (A)** reflects much individuals adjust their behavior to suit others. High scorers are typically polite and like people. Low scorers tend to 'tell it like it is'.<br>\n",
    "- **Conscientiousness (C)** is the personality trait of being honest and hardworking. High scorers tend to follow rules and prefer clean homes. Low scorers may be messy and cheat others.<br>\n",
    "- **Neuroticism (N)** is the personality trait of being emotional.<br>\n",
    "- **Openness to Experience (O)** is the personality trait of seeking new experience and intellectual pursuits. High scores may day dream a lot. Low scorers may be very down to earth.<br>"
   ]
  },
  {
   "cell_type": "markdown",
   "metadata": {},
   "source": [
    "## Hult DNA Personality Traits"
   ]
  },
  {
   "cell_type": "markdown",
   "metadata": {},
   "source": [
    "The Hult DNA represents personality and leadership  traits that are sought after by employers. The MSFT survey questions where defined under the three critical competencies (Thinking | Communicating | Team Building) and a calculation developed by classifying and quantifying the 9 Hult DNA behavioral skills.\n",
    "- **Thinking** is the trait of being 'self-aware', having the ability to 'embrace change' and being a 'dynamic thinker'. High scorers tend to be innovative people with a hunger for knowledge.<br>\n",
    "- **Communicating** reflects an individual's ability to 'speak and listen skillfully', 'influence confidently' and 'present ideas effectively'. High scorers tend to be confident people who do not shy away from conflict.<br>\n",
    "- **Team Building** reflects the ability to 'build collaborative relationships', 'inspire and motivate' and 'resolve conflict constructively'. High scorers tend to be resilient, collaborative and trusting people .<br>"
   ]
  },
  {
   "cell_type": "markdown",
   "metadata": {},
   "source": [
    "# Ingestion"
   ]
  },
  {
   "cell_type": "code",
   "execution_count": 4,
   "metadata": {},
   "outputs": [],
   "source": [
    "df_original = pd.read_excel(\"Survey_Data_Final_Exam.xlsx\")\n",
    "df = df_original.copy()"
   ]
  },
  {
   "cell_type": "code",
   "execution_count": 5,
   "metadata": {},
   "outputs": [],
   "source": [
    "# field definitions\n",
    "extrovered_col_index              = [1, 6, 11, 16, 21, 26, 31, 36, 41, 46]\n",
    "agreeableness_col_index           = [2, 7, 12, 17, 22, 27, 32, 37, 42, 47]\n",
    "conscientiousness_col_index       = [3, 8, 13, 18, 23, 28, 33, 38, 43, 48]\n",
    "neuroticism_col_index             = [4, 9, 14, 19, 24, 29, 34, 39, 44, 49]\n",
    "open_to_new_experiences_col_index = [5, 10, 15, 20, 25, 30, 35, 40, 45, 50]\n",
    "hult_dna_col_index                = np.arange(51, 72, 1)\n",
    "demographics_col_index            = np.arange(72, 78, 1)"
   ]
  },
  {
   "cell_type": "markdown",
   "metadata": {},
   "source": [
    "# Function Definitions"
   ]
  },
  {
   "cell_type": "code",
   "execution_count": 6,
   "metadata": {},
   "outputs": [],
   "source": [
    "# outlier and threshold mapping  \n",
    "def threshold_outlier_flagging(dataframe, feature, threshold_val, threshold_type, bound):\n",
    "#     automate outlier and flagging process\n",
    "    if threshold_type == 'outlier':\n",
    "        if bound == 'high':\n",
    "            _out_label = \"out_{}_hi\".format(feature)\n",
    "            dataframe.loc[:, _out_label] = 0\n",
    "            for index, val in dataframe.iterrows(): \n",
    "                if dataframe.loc[index, feature] > threshold_val:\n",
    "                    dataframe.loc[index, _out_label] = 1\n",
    "        elif bound == \"low\":\n",
    "            _out_label = \"out_{}_lo\".format(feature)\n",
    "            dataframe.loc[:, _out_label] = 0\n",
    "            for index, val in dataframe.iterrows(): \n",
    "                if dataframe.loc[index, feature] < threshold_val:\n",
    "                    dataframe.loc[index, _out_label] = 1\n",
    "        else:\n",
    "            print(\"Outlier flagging failed\")\n",
    "            \n",
    "    elif threshold_type == 'threshold':\n",
    "        if bound == 'high':\n",
    "            _out_label = \"flag_{}_hi\".format(feature)\n",
    "            dataframe.loc[:, _out_label] = 0\n",
    "            for index, val in dataframe.iterrows(): \n",
    "                if dataframe.loc[index, feature] > threshold_val:\n",
    "                    dataframe.loc[index, _out_label] = 1\n",
    "        elif bound == \"low\":\n",
    "            _out_label = \"flag_{}_lo\".format(feature)\n",
    "            dataframe.loc[:, _out_label] = 0\n",
    "            for index, val in dataframe.iterrows(): \n",
    "                if dataframe.loc[index, feature] < threshold_val:\n",
    "                    dataframe.loc[index, _out_label] = 1\n",
    "        else:\n",
    "            print(\"Threshold flagging failed\")\n",
    "            \n",
    "    elif threshold_type == 'trend':\n",
    "        _out_label = \"trend_{}\".format(feature)\n",
    "        dataframe.loc[:, _out_label] = 0\n",
    "        for index, val in dataframe.iterrows(): \n",
    "            if dataframe.loc[index, feature] == threshold_val:\n",
    "                dataframe.loc[index, _out_label] = 1"
   ]
  },
  {
   "cell_type": "code",
   "execution_count": 7,
   "metadata": {},
   "outputs": [],
   "source": [
    "########################################\n",
    "# pca_plotter\n",
    "########################################\n",
    "# optional color scheme\n",
    "colors_lst = [\"#476A2A\", \"#7851B8\", \"#BD3430\", \"#4A2D4E\", \"#875525\",\n",
    "              \"#A83683\", \"#4E655E\", \"#853541\", \"#3A3120\", \"#535D8E\"]\n",
    "\n",
    "\n",
    "# pca_plotter\n",
    "def pca_plotter(bunch, colors = None):\n",
    "    \"\"\"\n",
    "PARAMETERS\n",
    "----------\n",
    "bunch        : Bunch object to be used in PCA\n",
    "colors       : color coding for target labels, default None\n",
    "\"\"\"\n",
    "\n",
    "    # INSTANTIATING a PCA object\n",
    "    pca = PCA(n_components = 2,\n",
    "              random_state = 802)\n",
    "\n",
    "\n",
    "    # FITTING and TRANSFORMING the data\n",
    "    dataset_pca = pca.fit_transform(bunch.data)\n",
    "\n",
    "    \n",
    "    # setting figure options\n",
    "    plt.figure(figsize=(10, 10))\n",
    "    plt.xlim(dataset_pca[:, 0].min(), dataset_pca[:, 0].max())\n",
    "    plt.ylim(dataset_pca[:, 1].min(), dataset_pca[:, 1].max())\n",
    "\n",
    "\n",
    "    # data vizualization\n",
    "    for i in range(len(bunch.data)):\n",
    "\n",
    "        plt.text(dataset_pca[i, 0],\n",
    "                 dataset_pca[i, 1],\n",
    "                 str(bunch.target[i]),\n",
    "                 color = colors[bunch.target[i]],\n",
    "                 fontdict={'weight': 'bold', 'size': 9})\n",
    "\n",
    "    plt.xlabel(\"First principal component\")\n",
    "    plt.ylabel(\"Second principal component\")\n",
    "    plt.show()\n",
    "\n",
    "    \n",
    "########################################\n",
    "# tsne_plotter\n",
    "########################################\n",
    "# optional color scheme\n",
    "colors_lst = [\"#476A2A\", \"#7851B8\", \"#BD3430\", \"#4A2D4E\", \"#875525\",\n",
    "              \"#A83683\", \"#4E655E\", \"#853541\", \"#3A3120\", \"#535D8E\"]\n",
    "\n",
    "\n",
    "# tsne_plotter\n",
    "def tsne_plotter(bunch, colors = None):\n",
    "    \"\"\"\n",
    "PARAMETERS\n",
    "----------\n",
    "bunch        : Bunch object to be used in TSNE\n",
    "colors       : color coding for target labels, default None\n",
    "\"\"\"\n",
    "    \n",
    "    # INSTANTIATING a PCA object\n",
    "    tsne = TSNE(random_state = 508)\n",
    "\n",
    "    \n",
    "    # FITTING and TRANSFORMING the data\n",
    "    dataset_tsne = tsne.fit_transform(bunch.data)\n",
    "\n",
    "    \n",
    "    # setting figure options\n",
    "    plt.figure(figsize=(10, 10))\n",
    "    plt.xlim(dataset_tsne[:, 0].min(), dataset_tsne[:, 0].max() + 1)\n",
    "    plt.ylim(dataset_tsne[:, 1].min(), dataset_tsne[:, 1].max() + 1)\n",
    "\n",
    "    \n",
    "    # data vizualization\n",
    "    for i in range(len(bunch.data)):\n",
    "\n",
    "        plt.text(dataset_tsne[i, 0],\n",
    "                 dataset_tsne[i, 1],\n",
    "                 str(bunch.target[i]),\n",
    "                 color = colors[bunch.target[i]],\n",
    "                 fontdict={'weight': 'bold', 'size': 9})\n",
    "\n",
    "    plt.xlabel(\"t-SNE feature 0\")\n",
    "    plt.xlabel(\"t-SNE feature 1\")\n",
    "    plt.show()\n",
    "\n",
    "########################################\n",
    "# inertia\n",
    "########################################\n",
    "def interia_plot(data, max_clust = 50):\n",
    "    \"\"\"\n",
    "PARAMETERS\n",
    "----------\n",
    "data      : DataFrame, data from which to build clusters. Dataset should be scaled\n",
    "max_clust : int, maximum of range for how many clusters to check interia, default 50\n",
    "    \"\"\"\n",
    "\n",
    "    ks = range(1, max_clust)\n",
    "    inertias = []\n",
    "\n",
    "\n",
    "    for k in ks:\n",
    "        # INSTANTIATING a kmeans object\n",
    "        model = KMeans(n_clusters = k)\n",
    "\n",
    "\n",
    "        # FITTING to the data\n",
    "        model.fit(data)\n",
    "\n",
    "\n",
    "        # append each inertia to the list of inertias\n",
    "        inertias.append(model.inertia_)\n",
    "\n",
    "\n",
    "\n",
    "    # plotting ks vs inertias\n",
    "    fig, ax = plt.subplots(figsize = (12, 8))\n",
    "    plt.plot(ks, inertias, '-o')\n",
    "\n",
    "\n",
    "    # labeling and displaying the plot\n",
    "    plt.xlabel('number of clusters, k')\n",
    "    plt.ylabel('inertia')\n",
    "    plt.xticks(ks)\n",
    "    plt.show()\n",
    "\n",
    "\n",
    "########################################\n",
    "# scree_plot\n",
    "########################################\n",
    "def scree_plot(pca_object, export = False):\n",
    "    # building a scree plot\n",
    "\n",
    "    # setting plot size\n",
    "    fig, ax = plt.subplots(figsize=(10, 8))\n",
    "    features = range(pca_object.n_components_)\n",
    "\n",
    "\n",
    "    # developing a scree plot\n",
    "    plt.plot(features,\n",
    "             pca_object.explained_variance_ratio_,\n",
    "             linewidth = 2,\n",
    "             marker = 'o',\n",
    "             markersize = 10,\n",
    "             markeredgecolor = 'black',\n",
    "             markerfacecolor = 'grey')\n",
    "\n",
    "\n",
    "    # setting more plot options\n",
    "    plt.title('Scree Plot')\n",
    "    plt.xlabel('PCA feature')\n",
    "    plt.ylabel('Explained Variance')\n",
    "    plt.xticks(features)\n",
    "\n",
    "    if export == True:\n",
    "    \n",
    "        # exporting the plot\n",
    "        plt.savefig('top_customers_correlation_scree_plot.png')\n",
    "        \n",
    "    # displaying the plot\n",
    "    plt.show()"
   ]
  },
  {
   "cell_type": "markdown",
   "metadata": {},
   "source": [
    "# Data Cleansing\n",
    "\n",
    "## Procedure\n",
    "1. Handle missing values\n",
    "2. Handle dirty data\n",
    "3. Flag outlier values\n",
    "\n",
    "## Notes\n",
    "The following fields were dropped entirely out of the dataset\n",
    "1. Nationality - We have aggregated data by region\n",
    "\n",
    "\n",
    "## Execution"
   ]
  },
  {
   "cell_type": "markdown",
   "metadata": {},
   "source": [
    "Missing values in \"What is you ethnicity?\" replaced with \"NA\""
   ]
  },
  {
   "cell_type": "code",
   "execution_count": 8,
   "metadata": {},
   "outputs": [],
   "source": [
    "# observe missing values\n",
    "df.isna().sum()[(df.isna().sum() > 0) == True]\n",
    "df.iloc[:, 78].fillna(\"NA\", inplace=True)"
   ]
  },
  {
   "cell_type": "markdown",
   "metadata": {},
   "source": [
    "Replace MAC with Macbook in both laptop related questions"
   ]
  },
  {
   "cell_type": "code",
   "execution_count": 9,
   "metadata": {},
   "outputs": [],
   "source": [
    "# What laptop would you currently have?\n",
    "df[\"What laptop do you currently have?\"] = df[\"What laptop do you currently have?\"].replace(to_replace=\n",
    "    {\"MAC\"         : \"Macbook\",\n",
    "    \"Chromebook\"  : \"Windows\",\n",
    "    \"Windows laptop\": \"Windows\"})\n",
    "\n",
    "# What laptop would you buy in next assuming if all laptops cost the same?\n",
    "df[\"What laptop would you buy in next assuming if all laptops cost the same?\"] = df[\"What laptop would you buy in next assuming if all laptops cost the same?\"].replace(to_replace=\n",
    "    {\"MAC\"         : \"Macbook\",\n",
    "    \"Chromebook\"  : \"Windows\",\n",
    "    \"Windows laptop\": \"Windows\"})"
   ]
  },
  {
   "cell_type": "markdown",
   "metadata": {},
   "source": [
    "Replaced ethnicity with readable class labels"
   ]
  },
  {
   "cell_type": "code",
   "execution_count": 10,
   "metadata": {},
   "outputs": [],
   "source": [
    "df.replace({\"What is your ethnicity?\": {\n",
    "    \"White / Caucasian\"     : \"white_caucasian\",\n",
    "    \"Far east Asian\"        : \"far_east_asian\",\n",
    "    \"West Asian / Indian\"   : \"west_asian_indian\",\n",
    "    \"Hispanic / Latino\"     : \"hispanic_latino\",\n",
    "    \"Prefer not to answer\"  : \"prefer_no_answer\",\n",
    "    \"African American\"      : \"african_american\",\n",
    "    \"Native American\"       : \"native_american\",\n",
    "    \"Middle Eastern\"        : \"middle_eastern\"}\n",
    "}, inplace=True)"
   ]
  },
  {
   "cell_type": "markdown",
   "metadata": {},
   "source": [
    "Students below 25 and over 35 are considered outliers because they don't constitute as the majority of those who took the survey"
   ]
  },
  {
   "cell_type": "code",
   "execution_count": 11,
   "metadata": {
    "scrolled": true
   },
   "outputs": [
    {
     "data": {
      "image/png": "[encoded data removed]",
      "text/plain": [
       "<Figure size 360x288 with 1 Axes>"
      ]
     },
     "metadata": {
      "needs_background": "light"
     },
     "output_type": "display_data"
    }
   ],
   "source": [
    "# visualize ages\n",
    "fig = plt.figure(figsize=(5, 4))\n",
    "ax_1 = plt.subplot(1, 1, 1)\n",
    "\n",
    "ax_1.hist(df.iloc[:, 75])\n",
    "\n",
    "ax_1.spines['right'].set_visible(False)\n",
    "ax_1.spines['top'].set_visible(False)\n",
    "ax_1.set_title(\"Age distribution of observed survey respondents\")\n",
    "\n",
    "plt.show()\n",
    "\n",
    "# flag outliers\n",
    "threshold_outlier_flagging(df, \"What is your age?\", 25, \"outlier\", \"low\")\n",
    "threshold_outlier_flagging(df, \"What is your age?\", 35, \"outlier\", \"high\")"
   ]
  },
  {
   "cell_type": "markdown",
   "metadata": {},
   "source": [
    "Replace repeated questions with the average of their values"
   ]
  },
  {
   "cell_type": "code",
   "execution_count": 12,
   "metadata": {},
   "outputs": [],
   "source": [
    "# replace column with average of two\n",
    "for col1, col2 in [(56, 59), (55, 58), (57, 60)]:\n",
    "    df.iloc[:, col1] = (df.iloc[:, col1]/2 + df.iloc[:, col2]/2)\n",
    "\n",
    "# drop repeated columns\n",
    "df.drop(df.columns.values[58:61], inplace=True, axis=1)"
   ]
  },
  {
   "cell_type": "markdown",
   "metadata": {},
   "source": [
    "Demographic column indexes show no sign of dirt data"
   ]
  },
  {
   "cell_type": "code",
   "execution_count": 13,
   "metadata": {},
   "outputs": [],
   "source": [
    "# # # observe and clean dirty data\n",
    "# for i in demographics_col_index:\n",
    "#     print(\"\\n--------------------------\")\n",
    "#     print(df.iloc[:, i].value_counts())"
   ]
  },
  {
   "cell_type": "code",
   "execution_count": 14,
   "metadata": {},
   "outputs": [],
   "source": [
    "# drop columns\n",
    "df.drop([\n",
    "    \"What is your nationality? \",\n",
    "    ],\n",
    "    axis = 1,\n",
    "    inplace = True\n",
    ")"
   ]
  },
  {
   "cell_type": "markdown",
   "metadata": {},
   "source": [
    "# Feature Engineering"
   ]
  },
  {
   "cell_type": "markdown",
   "metadata": {},
   "source": [
    "## Binary Transformations"
   ]
  },
  {
   "cell_type": "markdown",
   "metadata": {},
   "source": [
    "Binary transformed the features of the following questions,\n",
    "1. What laptop do you currently have? \n",
    "2. What laptop would you buy in next assuming if all laptops cost the same?\n",
    "3. What program are you in?  \n",
    "4. What is your gender?\n",
    "5. What is your ethnicity?\n",
    "\n",
    "***After later consideration, the above transformations were not considered due to the nature of the required data frame for analysis**"
   ]
  },
  {
   "cell_type": "code",
   "execution_count": 15,
   "metadata": {},
   "outputs": [],
   "source": [
    "# get dummy variables for current and desired laptop\n",
    "# laptop_dummies      = pd.get_dummies(df.iloc[:, [69, 70]], prefix=[\"fe_current\", \"fe_desired\"])\n",
    "# program_dummies     = pd.get_dummies(df.iloc[:, [71]], prefix=[\"fe_program\"])\n",
    "# gender_dummies      = pd.get_dummies(df.iloc[:, [73]], prefix=[\"fe_gender_\"])\n",
    "# ethnicity_dummies   = pd.get_dummies(df.iloc[:, [74]], prefix=[\"fe_ethinicity\"])\n",
    "\n",
    "# concat dummies\n",
    "df_clean_dummies = pd.concat(\n",
    "    # [df, laptop_dummies, program_dummies, gender_dummies, ethnicity_dummies],\n",
    "#     [df, laptop_dummies, program_dummies],\n",
    "    [df],\n",
    "    axis=1\n",
    ")"
   ]
  },
  {
   "cell_type": "markdown",
   "metadata": {},
   "source": [
    "## Big 5 personality traits"
   ]
  },
  {
   "cell_type": "code",
   "execution_count": 16,
   "metadata": {},
   "outputs": [],
   "source": [
    "# column mapping\n",
    "extrovered_col_index = [1, 6, 11, 16, 21, 26, 31, 36, 41, 46]\n",
    "agreeableness_col_index = [2, 7, 12, 17, 22, 27, 32, 37, 42, 47]\n",
    "conscientiousness_col_index = [3, 8, 13, 18, 23, 28, 33, 38, 43, 48]\n",
    "neuroticism_col_index = [4, 9, 14, 19, 24, 29, 34, 39, 44, 49]\n",
    "open_to_new_experiences_col_index = [5, 10, 15, 20, 25, 30, 35, 40, 45, 50]\n",
    "hult_dna_col_index = np.arange(51, 72, 1)\n",
    "\n",
    "# question mapping\n",
    "extroverted_questions = df_clean_dummies.columns[extrovered_col_index]\n",
    "agreeableness_questions = df_clean_dummies.columns[extrovered_col_index]\n",
    "conscientiousness_questions = df_clean_dummies.columns[extrovered_col_index]\n",
    "neuroticism_questions = df_clean_dummies.columns[extrovered_col_index]\n",
    "open_to_new_experiences_questions = df_clean_dummies.columns[extrovered_col_index]\n",
    "\n",
    "# define lambda functions to determine degree of personality\n",
    "get_extroverted_score =             lambda l: np.sum([20,  l[0], -l[1],  l[2], -l[3],  l[4], -l[5],  l[6], -l[7],  l[8], -l[9]])\n",
    "get_agreeableness_score =           lambda l: np.sum([14, -l[0],  l[1], -l[2],  l[3], -l[4],  l[5], -l[6],  l[7],  l[8],  l[9]])\n",
    "get_conscientiousness_score =       lambda l: np.sum([14,  l[0], -l[1],  l[2], -l[3],  l[4], -l[5],  l[6], -l[7],  l[8],  l[9]])\n",
    "get_neuroticism_score =             lambda l: np.sum([38, -l[0],  l[1], -l[2],  l[3], -l[4], -l[5], -l[6], -l[7], -l[8], -l[9]])\n",
    "get_open_to_new_experiences_score = lambda l: np.sum([8,   l[0], -l[1],  l[2], -l[3],  l[4], -l[5],  l[6],  l[7],  l[8],  l[9]])\n"
   ]
  },
  {
   "cell_type": "code",
   "execution_count": 17,
   "metadata": {},
   "outputs": [],
   "source": [
    "df_clean_dummies[\"big_5_extrovertedness\"] = 0\n",
    "df_clean_dummies[\"big_5_agreeableness\"] = 0\n",
    "df_clean_dummies[\"big_5_conscientiousness\"] = 0\n",
    "df_clean_dummies[\"big_5_neuroticism\"] = 0\n",
    "df_clean_dummies[\"big_5_open_to_new_experiences\"] = 0\n",
    "\n",
    "# iterate between each row and scores to individual columns\n",
    "for index, val in df_clean_dummies.iterrows():\n",
    "    df_clean_dummies.loc[index, \"big_5_extrovertedness\"]         = get_extroverted_score(df_clean_dummies.iloc[index, extrovered_col_index].to_list())\n",
    "    df_clean_dummies.loc[index, \"big_5_agreeableness\"]           = get_extroverted_score(df_clean_dummies.iloc[index, agreeableness_col_index].to_list())\n",
    "    df_clean_dummies.loc[index, \"big_5_conscientiousness\"]       = get_extroverted_score(df_clean_dummies.iloc[index, conscientiousness_col_index].to_list())\n",
    "    df_clean_dummies.loc[index, \"big_5_neuroticism\"]             = get_extroverted_score(df_clean_dummies.iloc[index, neuroticism_col_index].to_list())\n",
    "    df_clean_dummies.loc[index, \"big_5_open_to_new_experiences\"] = get_extroverted_score(df_clean_dummies.iloc[index, open_to_new_experiences_col_index].to_list())"
   ]
  },
  {
   "cell_type": "markdown",
   "metadata": {},
   "source": [
    "## Hult DNA personality traits\n",
    "\n",
    "### Hult DNA calculations\n",
    "Based on our assumptions on which trait each question falls under;\n",
    "- Thinking:      50 - 51 + 52 + 53\n",
    "- Communicating: 54 + 55 + 56 + 57 - 58 + 63\n",
    "- Team Building: 59 + 60 + 61 - 62 + 64 + 65 + 66 + 67\n"
   ]
  },
  {
   "cell_type": "code",
   "execution_count": 18,
   "metadata": {},
   "outputs": [],
   "source": [
    "# hult definitions\n",
    "def_hult_thinking_index      = [50, 51, 52, 53] # correct\n",
    "def_hult_communicating_index = [54, 55, 56, 57, 58, 63]\n",
    "def_hult_team_building_index = [59, 60, 61, 62, 64, 65, 66, 67]\n",
    "\n",
    "# define lambda functions to determine degree of hult_dimension\n",
    "get_hult_thinking_score      =  lambda l: np.sum([0,  l[0], -l[1],  l[2],  l[3]])\n",
    "get_hult_communicating_score =  lambda l: np.sum([0,  l[0],  l[1],  l[2],  l[3], -l[4], l[5]])\n",
    "get_hult_team_building_score =  lambda l: np.sum([0,  l[0],  l[1],  l[2], -l[3],  l[4],  l[5],  l[6],  l[7]])"
   ]
  },
  {
   "cell_type": "code",
   "execution_count": 19,
   "metadata": {},
   "outputs": [],
   "source": [
    "df_clean_dummies[\"hult_dna_thinking\"]      = 0\n",
    "df_clean_dummies[\"hult_dna_communicating\"] = 0\n",
    "df_clean_dummies[\"hult_dna_team_building\"] = 0\n",
    "\n",
    "# iterate between each row and scores to individual columns\n",
    "for index, val in df_clean_dummies.iterrows():\n",
    "    df_clean_dummies.loc[index, \"hult_dna_thinking\"]         = get_hult_thinking_score(df_clean_dummies.iloc[index, def_hult_thinking_index].to_list())\n",
    "    df_clean_dummies.loc[index, \"hult_dna_communicating\"]    = get_hult_communicating_score(df_clean_dummies.iloc[index, def_hult_communicating_index].to_list())\n",
    "    df_clean_dummies.loc[index, \"hult_dna_team_building\"]    = get_hult_team_building_score(df_clean_dummies.iloc[index, def_hult_team_building_index].to_list())"
   ]
  },
  {
   "cell_type": "markdown",
   "metadata": {},
   "source": [
    "## Feature Scaling"
   ]
  },
  {
   "cell_type": "code",
   "execution_count": 20,
   "metadata": {},
   "outputs": [],
   "source": [
    "# define columns for each dimension\n",
    "big_5_columns = [\n",
    "    'big_5_extrovertedness',\n",
    "    'big_5_agreeableness',\n",
    "    'big_5_conscientiousness',\n",
    "    'big_5_neuroticism',\n",
    "    'big_5_open_to_new_experiences']\n",
    "\n",
    "huld_dna_columns = [\n",
    "    'hult_dna_thinking',\n",
    "    'hult_dna_communicating',\n",
    "    'hult_dna_team_building']\n",
    "\n",
    "# initialize data\n",
    "data = df_clean_dummies.loc[:, big_5_columns+huld_dna_columns]\n",
    "\n",
    "# instantiate, fit, transform\n",
    "scaler = preprocessing.StandardScaler().fit(data)\n",
    "scaled_columns = scaler.transform(data).round(3)\n",
    "\n",
    "# replace columns with scaled values\n",
    "df_clean_dummies.loc[:, big_5_columns+huld_dna_columns] = scaled_columns"
   ]
  },
  {
   "cell_type": "markdown",
   "metadata": {},
   "source": [
    "# Unsupervised Statistical Modeling\n",
    "The aim of this section is to use unsupervised learning to determine latent traits that have strong correlations with Big 5 and Hult DNA personality traits. This will be achieved by using\n",
    "1. Principle Component Analysis (PCA)\n",
    "2. K Mean Clustering"
   ]
  },
  {
   "cell_type": "markdown",
   "metadata": {},
   "source": [
    "## PCA"
   ]
  },
  {
   "cell_type": "code",
   "execution_count": 21,
   "metadata": {},
   "outputs": [],
   "source": [
    "# drop all columns before Big 5 personality traits\n",
    "df_clean_dummies.drop(df_clean_dummies.columns[0:75], inplace = True, axis=1)"
   ]
  },
  {
   "cell_type": "markdown",
   "metadata": {},
   "source": [
    "From the Scree Plot below, the optimzal number of components are 6"
   ]
  },
  {
   "cell_type": "code",
   "execution_count": 22,
   "metadata": {},
   "outputs": [
    {
     "data": {
      "image/png": "[encoded data removed]",
      "text/plain": [
       "<Figure size 720x576 with 1 Axes>"
      ]
     },
     "metadata": {
      "needs_background": "light"
     },
     "output_type": "display_data"
    }
   ],
   "source": [
    "# INSTANTIATING a PCA object with no limit to principal components\n",
    "pca = PCA(n_components = None,\n",
    "          random_state = 802)\n",
    "\n",
    "# FITTING and TRANSFORMING the purchases_scaled\n",
    "customer_pca = pca.fit_transform(df_clean_dummies)\n",
    "\n",
    "# calling the scree_plot function\n",
    "scree_plot(pca_object = pca)"
   ]
  },
  {
   "cell_type": "markdown",
   "metadata": {},
   "source": [
    "## Factor loadings per feature"
   ]
  },
  {
   "cell_type": "code",
   "execution_count": 23,
   "metadata": {},
   "outputs": [],
   "source": [
    "# Instantiate PCA\n",
    "pca = PCA(n_components = 5,\n",
    "          random_state = 802)\n",
    "\n",
    "# Fit and transform\n",
    "participant_pca = pca.fit_transform(df_clean_dummies)\n",
    "\n",
    "# Factor loadings\n",
    "factor_loadings = pd.DataFrame(pd.np.transpose(pca.components_))\n",
    "\n",
    "# rename rows as original features\n",
    "factor_loadings = factor_loadings.set_index(df_clean_dummies.columns)"
   ]
  },
  {
   "cell_type": "markdown",
   "metadata": {},
   "source": [
    "## Factor loadings per customer"
   ]
  },
  {
   "cell_type": "code",
   "execution_count": 24,
   "metadata": {},
   "outputs": [],
   "source": [
    "df_pca_factor_customer = pd.DataFrame(pca.transform(df_clean_dummies))"
   ]
  },
  {
   "cell_type": "code",
   "execution_count": 25,
   "metadata": {},
   "outputs": [
    {
     "name": "stdout",
     "output_type": "stream",
     "text": [
      "\n",
      "\n",
      "MAX Components Factor Loadings\n",
      "------------------------------\n",
      "                               Friendly Introvert  Self-Aware  Emotional  \\\n",
      "out_What is your age?_lo                    -0.03        0.01      -0.01   \n",
      "out_What is your age?_hi                     0.00       -0.01       0.02   \n",
      "big_5_extrovertedness                       -0.35        0.29      -0.31   \n",
      "big_5_agreeableness                          0.46        0.18      -0.19   \n",
      "big_5_conscientiousness                     -0.31       -0.33      -0.08   \n",
      "big_5_neuroticism                            0.01       -0.29       0.73   \n",
      "big_5_open_to_new_experiences               -0.41       -0.35      -0.20   \n",
      "hult_dna_thinking                           -0.06        0.65       0.41   \n",
      "hult_dna_communicating                      -0.41        0.39      -0.13   \n",
      "hult_dna_team_building                      -0.48        0.05       0.32   \n",
      "\n",
      "                               Sensitive Extrovert  Personable  \n",
      "out_What is your age?_lo                      0.10       -0.01  \n",
      "out_What is your age?_hi                     -0.00        0.01  \n",
      "big_5_extrovertedness                         0.62        0.08  \n",
      "big_5_agreeableness                           0.05        0.34  \n",
      "big_5_conscientiousness                      -0.35        0.78  \n",
      "big_5_neuroticism                             0.55        0.23  \n",
      "big_5_open_to_new_experiences                 0.04       -0.29  \n",
      "hult_dna_thinking                            -0.26        0.06  \n",
      "hult_dna_communicating                        0.14        0.27  \n",
      "hult_dna_team_building                       -0.29       -0.22  \n",
      "\n",
      "\n"
     ]
    }
   ],
   "source": [
    "# RENAME columns based on interpretation\n",
    "pca_component_names = [\"Friendly Introvert\", \"Self-Aware\", \"Emotional\", \"Sensitive Extrovert\", \"Personable\"]\n",
    "\n",
    "_ = [i for i in range(0, len(df_pca_factor_customer.columns), 1)]\n",
    "pca_rename_dict = dict(zip(_, pca_component_names)) \n",
    "\n",
    "# implement new component names\n",
    "factor_loadings.columns = pca_component_names\n",
    "df_pca_factor_customer.rename(columns=pca_rename_dict, inplace=True)\n",
    "\n",
    "# Observ factor loadings\n",
    "print(f\"\"\"\n",
    "\n",
    "MAX Components Factor Loadings\n",
    "------------------------------\n",
    "{factor_loadings.round(2)}\n",
    "\n",
    "\"\"\")"
   ]
  },
  {
   "cell_type": "markdown",
   "metadata": {},
   "source": [
    "## PCA component interpretation"
   ]
  },
  {
   "cell_type": "markdown",
   "metadata": {},
   "source": [
    "- <strong>Friendly Introvert</strong> is a polite person that is very friendly within their comfort zone but is closed to new experiences and constantly avoids conflict - therefore always compromising. That prevents the individual from communicating effectively and being productive  in teams.\n",
    "- <strong>Self Aware</strong> is a confident, driven person, that has high emotional intelligence and communication skills. However may be closed to new experiences and occasionally deceive to get ahead.\n",
    "- <strong>Emotional</strong> is an emotional individual that is sensitive to peoples differences and values to contributions of others; and constantly evolves by embracing feedback and change.\n",
    "- <strong>Sensitive Extrovert</strong> is a social person. Their emotional personality leads them to seek fulfillment with a wider community and foster strong relationships.\n",
    "- <strong>Personable</strong> is an honest and hard working person who is very relatable, self-disciplined and organized. "
   ]
  },
  {
   "cell_type": "markdown",
   "metadata": {},
   "source": [
    "## K Means"
   ]
  },
  {
   "cell_type": "markdown",
   "metadata": {},
   "source": [
    "An initial observation of the dendogram below indicates 4 potentially usefull clusters"
   ]
  },
  {
   "cell_type": "markdown",
   "metadata": {},
   "source": [
    "### Cluster identification"
   ]
  },
  {
   "cell_type": "code",
   "execution_count": 26,
   "metadata": {},
   "outputs": [
    {
     "data": {
      "image/png": "[encoded data removed]",
      "text/plain": [
       "<Figure size 864x864 with 1 Axes>"
      ]
     },
     "metadata": {
      "needs_background": "light"
     },
     "output_type": "display_data"
    }
   ],
   "source": [
    "# grouping data based on Ward distance\n",
    "standard_mergings_ward = linkage(y = df_clean_dummies,\n",
    "                                 method = 'ward')\n",
    "# setting plot size\n",
    "fig, ax = plt.subplots(figsize=(12, 12))\n",
    "\n",
    "# developing a dendrogram\n",
    "dendrogram(Z = standard_mergings_ward,\n",
    "           leaf_rotation = 90,\n",
    "           leaf_font_size = 6)\n",
    "\n",
    "# saving and displaying the plot\n",
    "plt.show()"
   ]
  },
  {
   "cell_type": "markdown",
   "metadata": {},
   "source": []
  },
  {
   "cell_type": "code",
   "execution_count": 27,
   "metadata": {},
   "outputs": [],
   "source": [
    "# Instantiating\n",
    "survey_k_pca = KMeans(n_clusters = 4,\n",
    "                         random_state = 802)\n",
    "\n",
    "# fitting\n",
    "survey_k_pca.fit(df_clean_dummies)\n",
    "\n",
    "# prpcessing clusters to dataframe\n",
    "customers_kmeans_pca = pd.DataFrame({'Cluster': survey_k_pca.labels_})\n",
    "\n",
    "# append clusters to dataframe\n",
    "# df_clean_dummies[\"cluster_category\"] = customers_kmeans_pca.iloc[: , 0]"
   ]
  },
  {
   "cell_type": "markdown",
   "metadata": {},
   "source": [
    "### Clusters classification"
   ]
  },
  {
   "cell_type": "code",
   "execution_count": 28,
   "metadata": {},
   "outputs": [
    {
     "data": {
      "text/html": [
       "<div>\n",
       "<style scoped>\n",
       "    .dataframe tbody tr th:only-of-type {\n",
       "        vertical-align: middle;\n",
       "    }\n",
       "\n",
       "    .dataframe tbody tr th {\n",
       "        vertical-align: top;\n",
       "    }\n",
       "\n",
       "    .dataframe thead th {\n",
       "        text-align: right;\n",
       "    }\n",
       "</style>\n",
       "<table border=\"1\" class=\"dataframe\">\n",
       "  <thead>\n",
       "    <tr style=\"text-align: right;\">\n",
       "      <th></th>\n",
       "      <th>cluster_1</th>\n",
       "      <th>cluster_2</th>\n",
       "      <th>cluster_3</th>\n",
       "      <th>cluster_4</th>\n",
       "    </tr>\n",
       "  </thead>\n",
       "  <tbody>\n",
       "    <tr>\n",
       "      <th>out_What is your age?_lo</th>\n",
       "      <td>0.37</td>\n",
       "      <td>0.32</td>\n",
       "      <td>0.28</td>\n",
       "      <td>0.31</td>\n",
       "    </tr>\n",
       "    <tr>\n",
       "      <th>out_What is your age?_hi</th>\n",
       "      <td>0.10</td>\n",
       "      <td>0.08</td>\n",
       "      <td>0.03</td>\n",
       "      <td>0.08</td>\n",
       "    </tr>\n",
       "    <tr>\n",
       "      <th>big_5_extrovertedness</th>\n",
       "      <td>0.92</td>\n",
       "      <td>-0.06</td>\n",
       "      <td>-0.54</td>\n",
       "      <td>-0.53</td>\n",
       "    </tr>\n",
       "    <tr>\n",
       "      <th>big_5_agreeableness</th>\n",
       "      <td>-0.69</td>\n",
       "      <td>0.03</td>\n",
       "      <td>1.13</td>\n",
       "      <td>-0.10</td>\n",
       "    </tr>\n",
       "    <tr>\n",
       "      <th>big_5_conscientiousness</th>\n",
       "      <td>0.61</td>\n",
       "      <td>-0.57</td>\n",
       "      <td>-0.35</td>\n",
       "      <td>0.11</td>\n",
       "    </tr>\n",
       "    <tr>\n",
       "      <th>big_5_neuroticism</th>\n",
       "      <td>-0.30</td>\n",
       "      <td>0.46</td>\n",
       "      <td>-0.53</td>\n",
       "      <td>0.27</td>\n",
       "    </tr>\n",
       "    <tr>\n",
       "      <th>big_5_open_to_new_experiences</th>\n",
       "      <td>0.66</td>\n",
       "      <td>-0.63</td>\n",
       "      <td>-0.85</td>\n",
       "      <td>0.46</td>\n",
       "    </tr>\n",
       "    <tr>\n",
       "      <th>hult_dna_thinking</th>\n",
       "      <td>0.14</td>\n",
       "      <td>0.83</td>\n",
       "      <td>-0.03</td>\n",
       "      <td>-0.86</td>\n",
       "    </tr>\n",
       "    <tr>\n",
       "      <th>hult_dna_communicating</th>\n",
       "      <td>0.58</td>\n",
       "      <td>0.22</td>\n",
       "      <td>-0.82</td>\n",
       "      <td>-0.22</td>\n",
       "    </tr>\n",
       "    <tr>\n",
       "      <th>hult_dna_team_building</th>\n",
       "      <td>0.54</td>\n",
       "      <td>0.12</td>\n",
       "      <td>-1.14</td>\n",
       "      <td>0.13</td>\n",
       "    </tr>\n",
       "  </tbody>\n",
       "</table>\n",
       "</div>"
      ],
      "text/plain": [
       "                               cluster_1  cluster_2  cluster_3  cluster_4\n",
       "out_What is your age?_lo            0.37       0.32       0.28       0.31\n",
       "out_What is your age?_hi            0.10       0.08       0.03       0.08\n",
       "big_5_extrovertedness               0.92      -0.06      -0.54      -0.53\n",
       "big_5_agreeableness                -0.69       0.03       1.13      -0.10\n",
       "big_5_conscientiousness             0.61      -0.57      -0.35       0.11\n",
       "big_5_neuroticism                  -0.30       0.46      -0.53       0.27\n",
       "big_5_open_to_new_experiences       0.66      -0.63      -0.85       0.46\n",
       "hult_dna_thinking                   0.14       0.83      -0.03      -0.86\n",
       "hult_dna_communicating              0.58       0.22      -0.82      -0.22\n",
       "hult_dna_team_building              0.54       0.12      -1.14       0.13"
      ]
     },
     "execution_count": 28,
     "metadata": {},
     "output_type": "execute_result"
    }
   ],
   "source": [
    "# get cluster centers\n",
    "centroids_pca = survey_k_pca.cluster_centers_\n",
    "\n",
    "# converting cluster centers into a DataFrame\n",
    "centroids_pca_df = pd.DataFrame(centroids_pca)\n",
    "\n",
    "# renaming principal components\n",
    "centroids_pca_df.columns = df_clean_dummies.columns\n",
    "\n",
    "# checking results (clusters = rows, pc = columns)\n",
    "centroids_pca_df_T = centroids_pca_df.round(2).T\n",
    "\n",
    "# rename clusters here\n",
    "new_cluster_names = {\n",
    "    0: \"cluster_1\", \n",
    "    1: \"cluster_2\", \n",
    "    2: \"cluster_3\", \n",
    "    3: \"cluster_4\"}\n",
    "\n",
    "centroids_pca_df_T.rename(columns=new_cluster_names, inplace=True)\n",
    "centroids_pca_df_T.to_csv(\"centroid_interpretation.csv\")\n",
    "centroids_pca_df_T"
   ]
  },
  {
   "cell_type": "markdown",
   "metadata": {},
   "source": [
    "## Final Data Merging - PCA components KMean clusters and Demographic"
   ]
  },
  {
   "cell_type": "markdown",
   "metadata": {},
   "source": [
    "Concatenation of,\n",
    "- Cluster column\n",
    "- PCA component columns\n",
    "- Demographic information\n",
    "    - Gender\n",
    "    - Ethnicity\n",
    "    - Current OS\n",
    "    - Desired OS"
   ]
  },
  {
   "cell_type": "code",
   "execution_count": 29,
   "metadata": {},
   "outputs": [],
   "source": [
    "data_df = pd.concat([\n",
    "    df_clean_dummies,\n",
    "    df_pca_factor_customer,\n",
    "    customers_kmeans_pca,\n",
    "    df.iloc[:, [69, 70, 71, 72, 73, 74]],\n",
    "], axis=1)"
   ]
  },
  {
   "cell_type": "code",
   "execution_count": 30,
   "metadata": {},
   "outputs": [
    {
     "name": "stdout",
     "output_type": "stream",
     "text": [
      "<class 'pandas.core.frame.DataFrame'>\n",
      "RangeIndex: 392 entries, 0 to 391\n",
      "Data columns (total 22 columns):\n",
      "out_What is your age?_lo         392 non-null int64\n",
      "out_What is your age?_hi         392 non-null int64\n",
      "big_5_extrovertedness            392 non-null float64\n",
      "big_5_agreeableness              392 non-null float64\n",
      "big_5_conscientiousness          392 non-null float64\n",
      "big_5_neuroticism                392 non-null float64\n",
      "big_5_open_to_new_experiences    392 non-null float64\n",
      "hult_dna_thinking                392 non-null float64\n",
      "hult_dna_communicating           392 non-null float64\n",
      "hult_dna_team_building           392 non-null float64\n",
      "Friendly Introvert               392 non-null float64\n",
      "Self-Aware                       392 non-null float64\n",
      "Emotional                        392 non-null float64\n",
      "Sensitive Extrovert              392 non-null float64\n",
      "Personable                       392 non-null float64\n",
      "Cluster                          392 non-null int32\n",
      "current_OS                       392 non-null object\n",
      "desired_OS                       392 non-null object\n",
      "program                          392 non-null object\n",
      "age                              392 non-null int64\n",
      "gender                           392 non-null object\n",
      "ethinicity                       392 non-null object\n",
      "dtypes: float64(13), int32(1), int64(3), object(5)\n",
      "memory usage: 66.0+ KB\n"
     ]
    }
   ],
   "source": [
    "# rename columns\n",
    "data_df.rename(columns={\n",
    "    \"What laptop do you currently have?\": \"current_OS\",\n",
    "    \"What laptop would you buy in next assuming if all laptops cost the same?\": \"desired_OS\",\n",
    "    \"What program are you in?\": \"program\",\n",
    "    \"What is your ethnicity?\": \"ethinicity\", \n",
    "    \"Gender\": \"gender\",\n",
    "    \"What is your age?\": \"age\",\n",
    "}, inplace=True)\n",
    "\n",
    "demographic_features = data_df.iloc[:, [16, 17, 18, 19, 20]].columns\n",
    "\n",
    "data_df.info()"
   ]
  },
  {
   "cell_type": "markdown",
   "metadata": {},
   "source": [
    "# Visualization"
   ]
  },
  {
   "cell_type": "code",
   "execution_count": 31,
   "metadata": {},
   "outputs": [],
   "source": [
    "def g(Demographic, Persona):\n",
    "    fig, ax = plt.subplots(figsize = (6, 6))\n",
    "    sns.boxplot(x = Demographic,\n",
    "                y = Persona,\n",
    "                hue = 'Cluster',\n",
    "                data = data_df)\n",
    "    sns.despine()\n",
    "    plt.tight_layout()\n",
    "    plt.show()"
   ]
  },
  {
   "cell_type": "code",
   "execution_count": 32,
   "metadata": {},
   "outputs": [],
   "source": [
    "# # Set up the figure\n",
    "\n",
    "def f(Persona, Cluster_0, Cluster_1, Cluster_2, Cluster_3):\n",
    "    \n",
    "    # initialize cluster\n",
    "    clusters_selected = []\n",
    "    color_maps = [\"Reds\", \"Blues\", \"Greens\", \"BuGn\"]\n",
    "    \n",
    "    # select cluster\n",
    "    if Cluster_0:\n",
    "        clusters_selected.append(0)\n",
    "    if Cluster_1:\n",
    "        clusters_selected.append(1)\n",
    "    if Cluster_2:\n",
    "        clusters_selected.append(2)\n",
    "    if Cluster_3:\n",
    "        clusters_selected.append(3)\n",
    "        \n",
    "    # define data for selected cluster\n",
    "    f, ax = plt.subplots(figsize=(6, 6))\n",
    "    \n",
    "    for cluster in clusters_selected:\n",
    "        ax = sns.kdeplot(\n",
    "            data_df.loc[data_df[\"Cluster\"] == cluster, \"age\"], \n",
    "            data_df.loc[data_df[\"Cluster\"] == cluster, Persona],\n",
    "            cmap=color_maps[cluster], shade=True, shade_lowest=False)\n",
    "        \n",
    "    sns.despine()"
   ]
  },
  {
   "cell_type": "code",
   "execution_count": 33,
   "metadata": {
    "scrolled": false
   },
   "outputs": [
    {
     "data": {
      "application/vnd.jupyter.widget-view+json": {
       "model_id": "ff9be6f1755b441999f7e806b3856237",
       "version_major": 2,
       "version_minor": 0
      },
      "text/plain": [
       "AppLayout(children=(HTML(value='\\n    <br>\\n    <br>\\n    <h1>Team 3 Analytical Findings</h1>\\n    <h3>Machine…"
      ]
     },
     "metadata": {},
     "output_type": "display_data"
    },
    {
     "data": {
      "application/vnd.jupyter.widget-view+json": {
       "model_id": "551ecab301ae4bb9aa3919bf770c96ec",
       "version_major": 2,
       "version_minor": 0
      },
      "text/plain": [
       "AppLayout(children=(HTML(value='\\n    <h4> Observe clusters of personas by distrubution of age and choice of c…"
      ]
     },
     "metadata": {},
     "output_type": "display_data"
    }
   ],
   "source": [
    "from ipywidgets import AppLayout, HTML, Layout\n",
    "\n",
    "introduction_text = \"\"\"\n",
    "    <br>\n",
    "    <br>\n",
    "    <h1>Team 3 Analytical Findings</h1>\n",
    "    <h3>Machine Learning DAT5303</h3>\n",
    "    <p>Neel Roshania | Omosalewa Oyagbola | Salomon Isaac Alvarado Claros | Shanna FNU | Shresth Sethi | Sunlong Ngouv </p>\n",
    "    <p>Hult International Business School<p>\n",
    "    <p>25 March 2020</p>\n",
    "    <br>\n",
    "    <br>\n",
    "    <h4> Review demographic information by choice of persona below</h4>\n",
    "    <br>\n",
    "\"\"\"\n",
    "introduction = HTML(introduction_text, layout = Layout(height='auto'))\n",
    "\n",
    "viz2_text = \"\"\"\n",
    "    <h4> Observe clusters of personas by distrubution of age and choice of cluster below</h4>\n",
    "\"\"\"\n",
    "viz2 = HTML(viz2_text, layout = Layout(height='auto'))\n",
    "\n",
    "per_persona = widgets.interactive(\n",
    "    g, \n",
    "    Demographic=demographic_features, \n",
    "    Persona=pca_component_names\n",
    ")\n",
    "\n",
    "per_cluster_age = widgets.interactive(\n",
    "    f, \n",
    "    Persona=pca_component_names, \n",
    "    Cluster_0=True, \n",
    "    Cluster_1=False, \n",
    "    Cluster_2=False, \n",
    "    Cluster_3=False)\n",
    "\n",
    "# AppLayout Object\n",
    "app_1 = AppLayout(\n",
    "    header = introduction,\n",
    "    left_sidebar = per_persona,\n",
    ")\n",
    "\n",
    "app_2 = AppLayout(\n",
    "    header = viz2,\n",
    "    left_sidebar = per_cluster_age\n",
    ")\n",
    "\n",
    "display(app_1)\n",
    "display(app_2)"
   ]
  },
  {
   "cell_type": "markdown",
   "metadata": {},
   "source": [
    "# Primary Insights and Recommendation"
   ]
  },
  {
   "cell_type": "markdown",
   "metadata": {},
   "source": [
    " - Demographic data shows no significant difference between Mac and Microsoft Users\n",
    " - Personas can be used to determine the type of interactive experiences consumers want when considering to buy a new computer\n",
    " - The “Friendly Introvert” persona is more likely to use Microsoft, therefore Microsoft should target students majoring in engineering.\n",
    " \n",
    "<strong><u>Recommendation</strong><br>\n",
    "Microsoft should develop a marketing campaign to target users that have personas of 'Friendly Introverts', 'Self-Aware' and 'Emotional'. These groups are being targeted because they show high inclinations towards Microsoft as their chosen laptop."
   ]
  },
  {
   "cell_type": "markdown",
   "metadata": {},
   "source": [
    "# Sources\n",
    "- The Big Five Personality Test, www.personality-testing.info, 2020\n",
    "- Five Personality Test, <https://ipip.ori.org/>\n",
    "- LDT Hult DNA Development Guide 2018-2019-2\n",
    "- Emotional Intelligence and Personality Traits, http://hrmars.com/admin/pics/1189.pdf, 2012\n",
    "- I'm a MAC versus I'm a PC, Psychology and Marketing DOI:10.1002/mar\n",
    "- Personality Traits and the process of store loyalty, Journal of Services Marketing 2007\n",
    "- Jaffe, E. (2014, 02 26). How Apple’s Famous “I’m A Mac” Ads Branded Fanboys For Life. Retrieved from Fast Company: https://www.fastcompany.com/3026521/apples-famous-ads-created-an-im-a-mac-effect\n",
    "- PUMPHREY, C. (n.d.). 10 Differences Between Macs and PCs. Retrieved from How stuff works: https://computer.howstuffworks.com/macs/10-differences-between-macs-and-pcs7.htm\n"
   ]
  },
  {
   "cell_type": "code",
   "execution_count": null,
   "metadata": {},
   "outputs": [],
   "source": []
  }
 ],
 "metadata": {
  "kernelspec": {
   "display_name": "Python 3",
   "language": "python",
   "name": "python3"
  },
  "language_info": {
   "codemirror_mode": {
    "name": "ipython",
    "version": 3
   },
   "file_extension": ".py",
   "mimetype": "text/x-python",
   "name": "python",
   "nbconvert_exporter": "python",
   "pygments_lexer": "ipython3",
   "version": "3.7.4"
  },
  "toc": {
   "base_numbering": 1,
   "nav_menu": {},
   "number_sections": true,
   "sideBar": true,
   "skip_h1_title": false,
   "title_cell": "Table of Contents",
   "title_sidebar": "Contents",
   "toc_cell": false,
   "toc_position": {},
   "toc_section_display": true,
   "toc_window_display": true
  },
  "varInspector": {
   "cols": {
    "lenName": 16,
    "lenType": 16,
    "lenVar": 40
   },
   "kernels_config": {
    "python": {
     "delete_cmd_postfix": "",
     "delete_cmd_prefix": "del ",
     "library": "var_list.py",
     "varRefreshCmd": "print(var_dic_list())"
    },
    "r": {
     "delete_cmd_postfix": ") ",
     "delete_cmd_prefix": "rm(",
     "library": "var_list.r",
     "varRefreshCmd": "cat(var_dic_list()) "
    }
   },
   "position": {
    "height": "518.704px",
    "left": "841.732px",
    "right": "20px",
    "top": "124.988px",
    "width": "409.005px"
   },
   "types_to_exclude": [
    "module",
    "function",
    "builtin_function_or_method",
    "instance",
    "_Feature"
   ],
   "window_display": false
  }
 },
 "nbformat": 4,
 "nbformat_minor": 4
}
